{
 "cells": [
  {
   "cell_type": "markdown",
   "metadata": {},
   "source": [
    "# Principal Component Analysis - PCA\n",
    "\n",
    "- Check vector representations of word using pre-loaded word embeddings\n",
    "- Compare word embeddings by using a similarity measure (the cosine similarity) and eulidean distance.\n",
    "- Use PCA to reduce the dimensionality of the Word2Vec word embeddings and plot them in two dimensions for visualization."
   ]
  },
  {
   "cell_type": "code",
   "execution_count": 1,
   "metadata": {},
   "outputs": [],
   "source": [
    "# Import necessary libraries\n",
    "import numpy as np\n",
    "import pandas as pd\n",
    "import matplotlib.pyplot as plt\n",
    "import pickle"
   ]
  },
  {
   "cell_type": "code",
   "execution_count": 2,
   "metadata": {},
   "outputs": [
    {
     "name": "stdout",
     "output_type": "stream",
     "text": [
      "Dimension of word 'Spain' in the word embedding model:  (300,)\n"
     ]
    }
   ],
   "source": [
    "# load word embedding model\n",
    "word_embeddings = pickle.load(open('./word_embeddings_subset.p', 'rb'))\n",
    "print('Dimension of word \\'Spain\\' in the word embedding model: ', word_embeddings['Spain'].shape)\n"
   ]
  },
  {
   "cell_type": "code",
   "execution_count": 3,
   "metadata": {},
   "outputs": [],
   "source": [
    "# cosine similarity function definition\n",
    "def cosine_similarity(word1, word2):\n",
    "    \"\"\"\n",
    "    Params:\n",
    "    ----------\n",
    "    word1: numpy array\n",
    "        representing word vector\n",
    "    word2: numpy array\n",
    "        representing word vector\n",
    "\n",
    "    Returns:\n",
    "    ----------\n",
    "    score: numpy float\n",
    "        cosine similarity score of word1 and word2\n",
    "\n",
    "    \"\"\"\n",
    "    \n",
    "    return np.dot(word1, word2) / (np.linalg.norm(word1) * np.linalg.norm(word2))"
   ]
  },
  {
   "cell_type": "code",
   "execution_count": 4,
   "metadata": {},
   "outputs": [
    {
     "data": {
      "text/plain": [
       "0.6510957"
      ]
     },
     "execution_count": 4,
     "metadata": {},
     "output_type": "execute_result"
    }
   ],
   "source": [
    "# Check out cosine similarity b/w king and queen\n",
    "king = word_embeddings['king']\n",
    "queen = word_embeddings['queen']\n",
    "\n",
    "cosine_similarity(king, queen)"
   ]
  },
  {
   "cell_type": "code",
   "execution_count": 5,
   "metadata": {},
   "outputs": [],
   "source": [
    "# euclidean distance function definition\n",
    "def euclidean(word1, word2):\n",
    "    \"\"\"\n",
    "    Params:\n",
    "    ----------\n",
    "    word1: numpy array\n",
    "        representing word vector\n",
    "    word2: numpy array\n",
    "        representing word vector\n",
    "\n",
    "    Returns:\n",
    "    ----------\n",
    "    euclid_distance: numpy float\n",
    "        euclidean distance between word vectors word1 and word2\n",
    "\n",
    "    \"\"\"\n",
    "    \n",
    "    return np.linalg.norm(word1-word2)"
   ]
  },
  {
   "cell_type": "code",
   "execution_count": 6,
   "metadata": {},
   "outputs": [
    {
     "data": {
      "text/plain": [
       "2.4796925"
      ]
     },
     "execution_count": 6,
     "metadata": {},
     "output_type": "execute_result"
    }
   ],
   "source": [
    "# Check out eulidean distance b/w king and queen\n",
    "king = word_embeddings['king']\n",
    "queen = word_embeddings['queen']\n",
    "\n",
    "euclidean(king, queen)"
   ]
  },
  {
   "cell_type": "code",
   "execution_count": 7,
   "metadata": {},
   "outputs": [],
   "source": [
    "# function to find the country that has its capital as 'city2' by learning latent relationship b/w a pair of given (city, country) data\n",
    "def get_country(city1, country1, city2, word_embeddings):\n",
    "    \"\"\"\n",
    "    Params:\n",
    "    ---------\n",
    "    city1: string\n",
    "        capital city of country1\n",
    "    country1 : string\n",
    "        country which has the capital as city1\n",
    "    city2: string\n",
    "        capital city of the country to be found\n",
    "    word_embeddings: dict\n",
    "        dictionary of words, having values as their vector representation\n",
    "    \n",
    "    Returns:\n",
    "    ----------\n",
    "    country2: tuple of (country, cosine similarity score)\n",
    "        country which has capital city as city2\n",
    "    \"\"\"\n",
    "\n",
    "    # get vector representions of cities and countries\n",
    "    city1_vec = word_embeddings[city1]\n",
    "    country1_vec = word_embeddings[country1]\n",
    "    city2_vec = word_embeddings[city2]\n",
    "    \n",
    "    # derive latent relationship b/w city1 and country1 and establish same relationship b/w city2 and country2\n",
    "    country2_vec = country1_vec - city1_vec + city2_vec\n",
    "\n",
    "\n",
    "    # find the word having the highest similarity score with city2\n",
    "    country2 = ''\n",
    "    max_cosine_similarity_score = 0\n",
    "    for word in word_embeddings:\n",
    "        if word not in set((city1, country1, city2)):\n",
    "            cosine_similarity_score = cosine_similarity(word_embeddings[word], country2_vec)\n",
    "            if cosine_similarity_score > max_cosine_similarity_score:\n",
    "                max_cosine_similarity_score = cosine_similarity_score\n",
    "                country2 = (word, max_cosine_similarity_score)\n",
    "    return country2\n",
    "\n"
   ]
  },
  {
   "cell_type": "code",
   "execution_count": 8,
   "metadata": {},
   "outputs": [
    {
     "data": {
      "text/plain": [
       "('Egypt', 0.7626821)"
      ]
     },
     "execution_count": 8,
     "metadata": {},
     "output_type": "execute_result"
    }
   ],
   "source": [
    "# given the relationship b/w Athens and Greece, find the country whose capital is Cairo\n",
    "get_country('Athens', 'Greece', 'Cairo', word_embeddings)"
   ]
  },
  {
   "cell_type": "code",
   "execution_count": 9,
   "metadata": {},
   "outputs": [
    {
     "data": {
      "text/html": [
       "<div>\n",
       "<style scoped>\n",
       "    .dataframe tbody tr th:only-of-type {\n",
       "        vertical-align: middle;\n",
       "    }\n",
       "\n",
       "    .dataframe tbody tr th {\n",
       "        vertical-align: top;\n",
       "    }\n",
       "\n",
       "    .dataframe thead th {\n",
       "        text-align: right;\n",
       "    }\n",
       "</style>\n",
       "<table border=\"1\" class=\"dataframe\">\n",
       "  <thead>\n",
       "    <tr style=\"text-align: right;\">\n",
       "      <th></th>\n",
       "      <th>city1</th>\n",
       "      <th>country1</th>\n",
       "      <th>city2</th>\n",
       "      <th>country2</th>\n",
       "    </tr>\n",
       "  </thead>\n",
       "  <tbody>\n",
       "    <tr>\n",
       "      <th>0</th>\n",
       "      <td>Athens</td>\n",
       "      <td>Greece</td>\n",
       "      <td>Bangkok</td>\n",
       "      <td>Thailand</td>\n",
       "    </tr>\n",
       "    <tr>\n",
       "      <th>1</th>\n",
       "      <td>Athens</td>\n",
       "      <td>Greece</td>\n",
       "      <td>Beijing</td>\n",
       "      <td>China</td>\n",
       "    </tr>\n",
       "    <tr>\n",
       "      <th>2</th>\n",
       "      <td>Athens</td>\n",
       "      <td>Greece</td>\n",
       "      <td>Berlin</td>\n",
       "      <td>Germany</td>\n",
       "    </tr>\n",
       "    <tr>\n",
       "      <th>3</th>\n",
       "      <td>Athens</td>\n",
       "      <td>Greece</td>\n",
       "      <td>Bern</td>\n",
       "      <td>Switzerland</td>\n",
       "    </tr>\n",
       "    <tr>\n",
       "      <th>4</th>\n",
       "      <td>Athens</td>\n",
       "      <td>Greece</td>\n",
       "      <td>Cairo</td>\n",
       "      <td>Egypt</td>\n",
       "    </tr>\n",
       "  </tbody>\n",
       "</table>\n",
       "</div>"
      ],
      "text/plain": [
       "    city1 country1    city2     country2\n",
       "0  Athens   Greece  Bangkok     Thailand\n",
       "1  Athens   Greece  Beijing        China\n",
       "2  Athens   Greece   Berlin      Germany\n",
       "3  Athens   Greece     Bern  Switzerland\n",
       "4  Athens   Greece    Cairo        Egypt"
      ]
     },
     "execution_count": 9,
     "metadata": {},
     "output_type": "execute_result"
    }
   ],
   "source": [
    "# load a dataset to test accuracy of embedding model\n",
    "data = pd.read_csv('capitals.txt', delimiter=' ')\n",
    "data.columns = ['city1', 'country1', 'city2', 'country2']\n",
    "\n",
    "# print first five elements in the DataFrame\n",
    "data.head(5)"
   ]
  },
  {
   "cell_type": "code",
   "execution_count": 10,
   "metadata": {},
   "outputs": [],
   "source": [
    "def get_accuracy(data, word_embeddings):\n",
    "    \"\"\"\n",
    "    Params:\n",
    "    ----------\n",
    "    data: pandas dataframe\n",
    "        the dataset to containing (city1, country1, city2, country2) as records\n",
    "    word_embeddings: dict\n",
    "        a dictionary where keys are the words and values represent the vector represention of the word\n",
    "    \n",
    "    Returns:\n",
    "    ----------\n",
    "    accuracy: numpy float\n",
    "        accuracy score of the word embedding model\n",
    "    \"\"\"\n",
    "\n",
    "    accuracy = np.mean(data.apply(lambda row: get_country(row['city1'], row['country1'], row['city2'], word_embeddings)[0] == row['country2'], axis=1))\n",
    "\n",
    "    return accuracy"
   ]
  },
  {
   "cell_type": "code",
   "execution_count": 11,
   "metadata": {},
   "outputs": [
    {
     "data": {
      "text/plain": [
       "0.9192082407594425"
      ]
     },
     "execution_count": 11,
     "metadata": {},
     "output_type": "execute_result"
    }
   ],
   "source": [
    "# find accuracy of the word embedding model\n",
    "accuracy = get_accuracy(data, word_embeddings)\n",
    "accuracy"
   ]
  },
  {
   "cell_type": "code",
   "execution_count": 12,
   "metadata": {},
   "outputs": [],
   "source": [
    "# computes the pca and returns the data matrix after dimensionality reduction\n",
    "def compute_pca(X, n_components=2):\n",
    "    \"\"\"\n",
    "    Params:\n",
    "    ----------\n",
    "    X: numpy array\n",
    "        m x n dimensional data matrix containing m word samples / observations and n dimensional vector representation of the words\n",
    "    n_components: int\n",
    "        the dimension to reduce the input data matrix X using PCA\n",
    "    \n",
    "    Returns:\n",
    "    ----------\n",
    "    X_transformed: numpy array\n",
    "        m x n_components data matrix after dimensionality reduction using PCA\n",
    "    \"\"\"\n",
    "\n",
    "    # mean center data\n",
    "    X = X - np.mean(X, axis=0)         # (m,n) array\n",
    "\n",
    "    # compute covariance matrix\n",
    "    X_cov = np.cov(X, rowvar=False)    # (n,n) array\n",
    "\n",
    "    # compute eigen vectors and eigen values of covariance matrix\n",
    "    eigen_values, eigen_vectors = np.linalg.eigh(X_cov)       # (n,) and (n,n) arrays  \n",
    "\n",
    "    # get the indices of eigen_values sorted by descending order of its values\n",
    "    sorted_indices = np.argsort(eigen_values)[::-1]\n",
    "\n",
    "    # get the eigen vectors / Principal components as per n_components\n",
    "    eigen_vectors = eigen_vectors[:, sorted_indices][:, :n_components]     # (n,n_components) array\n",
    "\n",
    "    # transform the original (m x n) dimensional data matrix to (m x n_component) dimensional data by projection\n",
    "    X_transformed = np.dot(X, eigen_vectors)\n",
    "\n",
    "    return X_transformed\n",
    "\n"
   ]
  },
  {
   "cell_type": "code",
   "execution_count": 13,
   "metadata": {},
   "outputs": [
    {
     "name": "stdout",
     "output_type": "stream",
     "text": [
      "Your original matrix was (3, 10) and it became:\n",
      "[[ 0.43437323  0.49820384]\n",
      " [ 0.42077249 -0.50351448]\n",
      " [-0.85514571  0.00531064]]\n"
     ]
    }
   ],
   "source": [
    "# Testing compute_pca() function\n",
    "np.random.seed(1)\n",
    "X = np.random.rand(3, 10)\n",
    "X_reduced = compute_pca(X, n_components=2)\n",
    "print(\"Your original matrix was \" + str(X.shape) + \" and it became:\")\n",
    "print(X_reduced)"
   ]
  },
  {
   "cell_type": "code",
   "execution_count": 14,
   "metadata": {},
   "outputs": [],
   "source": [
    "# function which creates a data matrix from word embeddings and words\n",
    "def get_vectors(word_embeddings, words):\n",
    "    \"\"\"\n",
    "    Params:\n",
    "    ----------\n",
    "    word_embeddings: dict\n",
    "        dictionary of words and their vector representations\n",
    "    words: list\n",
    "        list of str formatted words   \n",
    "\n",
    "    Returns:\n",
    "    ----------\n",
    "    X: numpy array\n",
    "        a matrix where the rows are the embeddings corresponding to the rows on the word list\n",
    "    \"\"\"\n",
    "    # find the word embedding dimension from the given embedding dictionary\n",
    "    word_embedding_dim = len(word_embeddings[list(word_embeddings.keys())[0]])\n",
    "\n",
    "    # Initialize X \n",
    "    X = np.zeros((1, word_embedding_dim))\n",
    "\n",
    "    # Add rows corresponding to the vector represention of each word\n",
    "    for word in words:\n",
    "        X = np.vstack((X, word_embeddings[word]))\n",
    "    X = X[1:, ]\n",
    "\n",
    "    return X"
   ]
  },
  {
   "cell_type": "code",
   "execution_count": 15,
   "metadata": {},
   "outputs": [
    {
     "name": "stdout",
     "output_type": "stream",
     "text": [
      "You have 11 words each of 300 dimensions thus X.shape is: (11, 300)\n"
     ]
    }
   ],
   "source": [
    "words = ['oil', 'gas', 'happy', 'sad', 'city', 'town',\n",
    "         'village', 'country', 'continent', 'petroleum', 'joyful']\n",
    "\n",
    "# given a list of words and the embeddings, it returns a matrix with all the embeddings\n",
    "X = get_vectors(word_embeddings, words)\n",
    "\n",
    "print('You have 11 words each of 300 dimensions thus X.shape is:', X.shape)"
   ]
  },
  {
   "cell_type": "code",
   "execution_count": 16,
   "metadata": {},
   "outputs": [],
   "source": [
    "# function to visualize high dimensional data in 2D after dimensionality reduction using PCA\n",
    "def pca_plot(words, n_components):\n",
    "    \"\"\"\n",
    "    Params: \n",
    "    ----------\n",
    "    words: list\n",
    "        a list of word to plot \n",
    "    n_components: int\n",
    "        the dimension to reduce the input words having n dimensional embeddings using PCA\n",
    "    \n",
    "    Returns:\n",
    "    ----------\n",
    "    A matplotlib plot of X data reduced to n_components dimension          \n",
    "    \"\"\"\n",
    "    # create a data matrix where the rows are the word embeddings corresponding to each word in the words list\n",
    "    X = get_vectors(word_embeddings, words)\n",
    "\n",
    "    # get PCA reduced data matrix\n",
    "    X_transformed = compute_pca(X, n_components=n_components)\n",
    "\n",
    "    # plot in 2D\n",
    "    x = X_transformed[:, 0]\n",
    "    y = X_transformed[:, 1]\n",
    "\n",
    "    plt.figure(figsize=(10,7))\n",
    "    plt.scatter(x, y)\n",
    "\n",
    "    # annotate points with words\n",
    "    for idx in range(len(words)):\n",
    "        plt.annotate(words[idx], (x[idx] + 0.05, y[idx] + 0.05), fontsize=15)\n",
    "\n",
    "    # generate plot\n",
    "    plt.show()"
   ]
  },
  {
   "cell_type": "code",
   "execution_count": 17,
   "metadata": {},
   "outputs": [
    {
     "data": {
      "image/png": "[encoded data removed]",
      "text/plain": [
       "<Figure size 720x504 with 1 Axes>"
      ]
     },
     "metadata": {
      "needs_background": "light"
     },
     "output_type": "display_data"
    }
   ],
   "source": [
    "# plot \n",
    "pca_plot(words, n_components=2)"
   ]
  }
 ],
 "metadata": {
  "kernelspec": {
   "display_name": "Python 3.9.7 ('base')",
   "language": "python",
   "name": "python3"
  },
  "language_info": {
   "codemirror_mode": {
    "name": "ipython",
    "version": 3
   },
   "file_extension": ".py",
   "mimetype": "text/x-python",
   "name": "python",
   "nbconvert_exporter": "python",
   "pygments_lexer": "ipython3",
   "version": "3.9.7"
  },
  "orig_nbformat": 4,
  "vscode": {
   "interpreter": {
    "hash": "ed98f0601b831bcc7b83204b240d5de8690f3d4c7ae43c4dad5e24aa4ea3791d"
   }
  }
 },
 "nbformat": 4,
 "nbformat_minor": 2
}
