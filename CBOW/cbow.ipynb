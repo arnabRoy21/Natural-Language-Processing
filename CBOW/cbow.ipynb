{
 "cells": [
  {
   "cell_type": "markdown",
   "metadata": {},
   "source": [
    "# The Continuous bag of words model (CBOW)\n",
    "\n",
    "- In continuous bag of words (CBOW) modeling, we try to predict the center word given a few context words (the words around the center word).\n",
    "- For example, if we were to choose a context half-size of say $C = 2$, then we would try to predict the word **happy** given the context that includes 2 words before and 2 words after the center word:\n",
    "\n",
    "> $C$ words before: [I, am] \n",
    "\n",
    "> $C$ words after: [because, I] \n",
    "\n",
    "- In other words:\n",
    "\n",
    "$$context = [I,am, because, I]$$\n",
    "$$target = happy$$\n",
    "\n",
    "The structure of the model will look like this:\n",
    "\n",
    "<div style=\"text-align:center;\">\n",
    "<img src='./media/word2.png' style=\"width:600px;height:250px;\"><br>Figure 1. For single input data (non-batch).</div>\n",
    "\n",
    "Where $\\bar x$ is the average of all the one hot vectors of the context words. \n",
    "\n",
    "<div style=\"text-align:center;\">\n",
    "<img src='./media/mean_vec2.png' style=\"width:600px;height:250px;\"><br>Figure 2</div>\n",
    "\n",
    "Once encoding is done for all the context words, you can use $\\bar x$ as the input to your model. \n",
    "\n",
    "The architecture you will be implementing is as follows:\n",
    "\n",
    "\\begin{align*}\n",
    " h &= W_1 \\  X + b_1  \\\\\n",
    " a &= ReLU(h)   \\\\\n",
    " z &= W_2 \\  a + b_2    \\\\\n",
    " \\hat y &= softmax(z)   \\\\\n",
    "\\end{align*}"
   ]
  },
  {
   "cell_type": "code",
   "execution_count": 182,
   "metadata": {},
   "outputs": [],
   "source": [
    "%reload_ext autoreload\n",
    "%autoreload 2\n",
    "\n",
    "import re\n",
    "import emoji\n",
    "import nltk\n",
    "from nltk.tokenize import word_tokenize\n",
    "import numpy as np\n",
    "import matplotlib.pyplot as plt\n",
    "from utils import (preprocess_data, get_word2ind_mapping_dict, relu, softmax,\n",
    "                   get_center_context_words, get_batches, compute_pca)\n"
   ]
  },
  {
   "cell_type": "markdown",
   "metadata": {},
   "source": [
    "### Load, tokenize and process the data"
   ]
  },
  {
   "cell_type": "code",
   "execution_count": 44,
   "metadata": {},
   "outputs": [
    {
     "name": "stdout",
     "output_type": "stream",
     "text": [
      "Some tokens in the data:  ['o', 'for', 'a', 'muse', 'of', 'fire', '.', 'that', 'would', 'ascend']\n"
     ]
    }
   ],
   "source": [
    "data = preprocess_data(\"./shakespeare.txt\")\n",
    "print(\"Some tokens in the data: \",data[:10])"
   ]
  },
  {
   "cell_type": "code",
   "execution_count": 12,
   "metadata": {},
   "outputs": [
    {
     "name": "stdout",
     "output_type": "stream",
     "text": [
      "Size of vocabulary:  5775\n",
      "Most frequent tokens:  [('.', 9630), ('the', 1521), ('and', 1394), ('i', 1257), ('to', 1159), ('of', 1093), ('my', 857), ('that', 781), ('in', 770), ('a', 752), ('you', 748), ('is', 630), ('not', 559), ('for', 467), ('it', 460), ('with', 441), ('his', 434), ('but', 417), ('me', 417), ('your', 397)]\n"
     ]
    }
   ],
   "source": [
    "# Compute the frequency distribution of the words in the dataset (vocabulary)\n",
    "fdist = nltk.FreqDist(word for word in data)\n",
    "print(\"Size of vocabulary: \",len(fdist) )\n",
    "print(\"Most frequent tokens: \",fdist.most_common(20))   # print the 20 most frequent words and their freq."
   ]
  },
  {
   "cell_type": "markdown",
   "metadata": {},
   "source": [
    "#### Mapping words to indices and indices to words\n"
   ]
  },
  {
   "cell_type": "code",
   "execution_count": 13,
   "metadata": {},
   "outputs": [
    {
     "name": "stdout",
     "output_type": "stream",
     "text": [
      "First 5 elements in the word to indices dictionary:  [('.', 0), ('a', 1), ('abandon', 2), ('abed', 3), ('abhor', 4)]\n",
      "First 5 elements in the indices to word:  [(0, '.'), (1, 'a'), (2, 'abandon'), (3, 'abed'), (4, 'abhor')]\n"
     ]
    }
   ],
   "source": [
    "word2ind, ind2word = get_word2ind_mapping_dict(data)\n",
    "print(\"First 5 elements in the word to indices dictionary: \", list(word2ind.items())[:5])\n",
    "print(\"First 5 elements in the indices to word: \", list(ind2word.items())[:5])"
   ]
  },
  {
   "cell_type": "markdown",
   "metadata": {},
   "source": [
    "# Training the CBOW Model\n",
    "<div style=\"text-align:center;\">\n",
    "<img src='./media/cbow_model_dimensions_single_input.png' style=\"width:839;height:349;\"><br>Figure 3. For single input data (non-batch).</div>\n",
    "<br>\n",
    "<div style=\"text-align:center;\">\n",
    "<img src='./media/cbow_batch.png' style=\"width:839;height:349;\"><br>Figure 4. For batch input data.</div>\n",
    "\n",
    "###  Initializing the model\n",
    "\n",
    "**We will create model for handling batch input data so that we can use minibatch gradient descent.**\n",
    "\n",
    "Initialize the two weight matrices and two bias vectors. \n",
    "- The first matrix ($W_1$) is of dimension $N \\times V$,\n",
    "  - where $V$ is the number of words in your vocabulary\n",
    "  - $N$ is the dimension of your word vector.\n",
    "- The second matrix ($W_2$) is of dimension $V \\times N$. \n",
    "- Vector $b_1$ has dimensions $N\\times 1$\n",
    "- Vector $b_2$ has dimensions  $V\\times 1$. "
   ]
  },
  {
   "cell_type": "code",
   "execution_count": 14,
   "metadata": {},
   "outputs": [],
   "source": [
    "def initialize_model(V, N, random_seed=1):\n",
    "    \"\"\"\n",
    "    Randomly initialize the parameters of the CBOW model.\n",
    "\n",
    "    Params:\n",
    "    ----------\n",
    "    V: int\n",
    "        Number specifying the dimension of the vocabulary.\n",
    "    N: int\n",
    "        Number specifying the dimension of the embedding vector.\n",
    "\n",
    "    Returns:\n",
    "    ----------\n",
    "    The parameters of the model, W1, W2, b1, b2.\n",
    "    \"\"\"\n",
    "    np.random.seed(random_seed)\n",
    "    W1 = np.random.rand(N,V)\n",
    "    W2 = np.random.rand(V,N)\n",
    "    b1 = np.random.rand(N,1)\n",
    "    b2 = np.random.rand(V,1)\n",
    "    return W1, W2, b1, b2\n"
   ]
  },
  {
   "cell_type": "markdown",
   "metadata": {},
   "source": [
    "### Implement Forward Propagation.\n",
    "\n",
    "\\begin{align*}\n",
    " h &= W_1 \\  X + b_1   \\\\\n",
    " a &= ReLU(h)   \\\\\n",
    " z &= W_2 \\  a + b_2    \\\\\n",
    " \\hat{Y} &= \\text{softmax}(z)\n",
    "\\end{align*}\n",
    "\n",
    "- The Rectified Linear Unit (ReLU) given by:\n",
    "$$ReLU(h)=\\max (0,h)$$\n",
    "\n",
    "- Softmax Activation is given by,\n",
    "$$ \\text{softmax}(z_i) = \\frac{e^{z_i} }{\\sum_{i=0}^{V-1} e^{z_i} }  $$"
   ]
  },
  {
   "cell_type": "code",
   "execution_count": 31,
   "metadata": {},
   "outputs": [],
   "source": [
    "def forward_propogation(X, W1, W2, b1, b2):\n",
    "    \"\"\"\n",
    "    Computes the forward propogation step of the model.\n",
    "\n",
    "    Params:\n",
    "    ---------\n",
    "    X: array of dimension (V x m)\n",
    "        The average one hot vector for the context words.\n",
    "    W1, W2, b1, b2:  arrays\n",
    "        The matrices and biases of the model to be learned.\n",
    "    \n",
    "    Returns:\n",
    "    ----------\n",
    "    Y_hat, h: array of dimension (V x m)\n",
    "        The output values of the model.\n",
    "    \"\"\"\n",
    "    h = np.dot(W1, X) + b1\n",
    "    a = relu(h)\n",
    "    z = np.dot(W2, a) + b2\n",
    "    Y_hat = softmax(z)\n",
    "    return Y_hat, h    "
   ]
  },
  {
   "cell_type": "markdown",
   "metadata": {},
   "source": [
    "### Implement Cost Function\n",
    "To calculate the loss of a batch of inputs, we compute the following: \n",
    "\n",
    "$$J_{batch} = -\\frac{1}{m}\\sum_{i = 1}^{m}\\sum_{j = 1}^{V} y_j^{\\ (i)} log \\ \\hat{y}_j^{\\ (i)} $$\n",
    "\n",
    "Vectorized Form: \n",
    "$$J_{batch} = -\\frac{1}{m}\\sum_{i = 1}^{m} \\ \\mathbf{1}_m \\left ( Y^{\\ (i)} \\odot log \\ \\hat{Y}^{\\ (i)} \\right )$$\n",
    "\n",
    "Note:\n",
    "$\\mathbf{1}_m = \\left (1, 1, \\dots 1 \\right)$ is a $m$ row vector."
   ]
  },
  {
   "cell_type": "code",
   "execution_count": 32,
   "metadata": {},
   "outputs": [],
   "source": [
    "def compute_cost(Y, Y_hat):\n",
    "    \"\"\"\n",
    "    Computes the cross-entropy loss of the model.\n",
    "\n",
    "    Params:\n",
    "    ----------\n",
    "    Y: array of dimension (V x m)\n",
    "        The batch ground truth values.\n",
    "    Y_hat: array of dimension (V x m)\n",
    "        The predicted batch output values of the model.\n",
    "\n",
    "    Returns:\n",
    "    cost: float\n",
    "        The cross-entropy loss of the model.\n",
    "    \"\"\"\n",
    "    m = Y.shape[1]\n",
    "    cost = -1 / m * np.sum(np.sum(Y * np.log(Y_hat), axis=0, keepdims=True))\n",
    "    return cost"
   ]
  },
  {
   "cell_type": "markdown",
   "metadata": {},
   "source": [
    "### Backpropagation\n",
    "\n",
    "The formulas for backpropagation are the following.\n",
    "\n",
    "\\begin{align*}\n",
    " \\frac{\\partial J_{batch}}{\\partial \\mathbf{W_1}} &= \\frac{1}{m}\\rm{ReLU}\\left ( \\mathbf{W_2^\\top} (\\mathbf{\\hat{y}} - \\mathbf{y})\\right )\\mathbf{x}^\\top \\\\\n",
    " \\frac{\\partial J_{batch}}{\\partial \\mathbf{W_2}} &= \\frac{1}{m}(\\mathbf{\\hat{y}} - \\mathbf{y})\\mathbf{h^\\top} \\\\\n",
    " \\frac{\\partial J_{batch}}{\\partial \\mathbf{b_1}} &= \\frac{1}{m}\\rm{ReLU}\\left ( \\mathbf{W_2^\\top} (\\mathbf{\\hat{y}} - \\mathbf{y})\\right ) \\ \\mathbf{1_m^\\top} \\\\\n",
    " \\frac{\\partial J_{batch}}{\\partial \\mathbf{b_2}} &= \\frac{1}{m}(\\mathbf{\\hat{y}} - \\mathbf{y} ) \\ \\mathbf{1_m^\\top}\n",
    "\\end{align*}\n",
    "\n",
    "Note:\n",
    "$\\mathbf{1}_m = \\left (1, 1, \\dots 1 \\right)$ is a $m$ row vector.\n",
    "In code, we implement the effect of $\\mathbf{1}_m^\\top$ on a matrix $A$ using,\n",
    ">np.sum(A, axis=1, keepdims=True)"
   ]
  },
  {
   "cell_type": "code",
   "execution_count": 121,
   "metadata": {},
   "outputs": [],
   "source": [
    "def back_prop(X, Y, Y_hat, h, W1, W2, b1, b2):\n",
    "    \"\"\"\n",
    "    Computes the gradients of the model parameters w.r.t. the cost functions.\n",
    "\n",
    "    Params:\n",
    "    ----------\n",
    "    X: array of dimension (V x m)\n",
    "        The average one hot vector for the context words.\n",
    "    Y: array of dimension (V x m)\n",
    "        The batch ground truth values.\n",
    "    Y_hat: array of dimension (V x m)\n",
    "        The predicted batch output values of the model.\n",
    "    h: array of dimension (N x m)\n",
    "        The hidden vector.\n",
    "    W1, W2, b1, b2: arrays\n",
    "        The matrices and biases of the model to be learned.\n",
    "\n",
    "    Returns:\n",
    "    ---------- \n",
    "    grad_W1, grad_W2, grad_b1, grad_b2: arrays\n",
    "        The gradients of the model parameters.\n",
    "    \"\"\"\n",
    "    m = X.shape[1]\n",
    "    y_diff = Y_hat - Y\n",
    "    grad_W1 = (1 / m) * np.dot(relu(np.dot(W2.T, y_diff)),X.T)\n",
    "    grad_W2 = (1 / m) * np.dot(y_diff, h.T) \n",
    "    grad_b1 = (1 / m) * np.sum(relu(np.dot(W2.T, y_diff)), axis=1, keepdims=True)\n",
    "    grad_b2 = (1 / m) * np.sum(y_diff, axis=1, keepdims=True)\n",
    "\n",
    "    return grad_W1, grad_W2, grad_b1, grad_b2\n",
    "      "
   ]
  },
  {
   "cell_type": "markdown",
   "metadata": {},
   "source": [
    "### Mini-Batch Gradient descent\n",
    "\n",
    "During the gradient descent phase, we update the weights and biases by subtracting $\\alpha$ times the gradient from the original matrices and vectors, using the following formulas. Each update will occure after processing `batch_size` training samples.\n",
    "\n",
    "\\begin{align*}\n",
    " \\mathbf{W_1} &:= \\mathbf{W_1} - \\alpha \\frac{\\partial J}{\\partial \\mathbf{W_1}} \\\\\n",
    " \\mathbf{W_2} &:= \\mathbf{W_2} - \\alpha \\frac{\\partial J}{\\partial \\mathbf{W_2}} \\\\\n",
    " \\mathbf{b_1} &:= \\mathbf{b_1} - \\alpha \\frac{\\partial J}{\\partial \\mathbf{b_1}} \\\\\n",
    " \\mathbf{b_2} &:= \\mathbf{b_2} - \\alpha \\frac{\\partial J}{\\partial \\mathbf{b_2}} \\\\\n",
    "\\end{align*}"
   ]
  },
  {
   "cell_type": "code",
   "execution_count": 220,
   "metadata": {},
   "outputs": [],
   "source": [
    "def mini_batch_gradient_descent(data, word2ind, N, V, C=2, iters=100, alpha=0.03, batch_size=128):\n",
    "  \"\"\"\n",
    "  Updates the parameters of the CBOW model using gradient descent.\n",
    "  \n",
    "  Params:\n",
    "  ----------\n",
    "  data: str\n",
    "    The text corpus on which the CBOW model will be trained.\n",
    "  word2ind: dict\n",
    "    The words to indices dictionary.\n",
    "  N: int\n",
    "    Dimension of the word embedding vector.  \n",
    "  V: int\n",
    "    Dimension of vocabulary.\n",
    "  C: int\n",
    "    The half context size.\n",
    "  iters: int\n",
    "    Specifies the number of mini-batch updates needed.\n",
    "  alpha: float\n",
    "    The learning hyperparameter.\n",
    "  batch_size: int\n",
    "    The number of samples from training data to consider for an update.\n",
    "  \n",
    "  Returns:\n",
    "  ----------\n",
    "  W1, W2, b1, b2:  arrays\n",
    "    The updated model parameters. \n",
    "  \"\"\"\n",
    "  # Initialize the model parameters.\n",
    "  W1, W2, b1, b2 = initialize_model(V, N, random_seed=282) \n",
    "\n",
    "  # List to capture the cost after every 50 gradient descent updates.\n",
    "  cost_history = []\n",
    "\n",
    "  count = 0\n",
    "\n",
    "  # Generate batches of X and Y training data samples.\n",
    "  for X, Y in get_batches(data, C, V, word2ind, batch_size=batch_size):\n",
    "\n",
    "    # Get output values from the model.\n",
    "    Y_hat, h = forward_propogation(X, W1, W2, b1, b2)\n",
    "\n",
    "    if((count+1) % 50 == 0):\n",
    "      # Capture cost of the model at current step.\n",
    "      cost = compute_cost(Y, Y_hat)\n",
    "      cost_history.append(cost)\n",
    "      print(f'Cost after {count+1} gradient updates: {cost:.4f}')\n",
    "\n",
    "    # Compute the gradients.\n",
    "    grad_W1, grad_W2, grad_b1, grad_b2 = back_prop(X, Y, Y_hat, h, W1, W2, b1, b2)\n",
    "\n",
    "    # Update weights and biases\n",
    "    W1 -= alpha*grad_W1 \n",
    "    W2 -= alpha*grad_W2\n",
    "    b1 -= alpha*grad_b1\n",
    "    b2 -= alpha*grad_b2\n",
    "\n",
    "    count += 1\n",
    "    if count == iters:\n",
    "      break\n",
    "      \n",
    "  # Return updated parameters of the model.\n",
    "  return W1, W2, b1, b2, cost_history"
   ]
  },
  {
   "cell_type": "code",
   "execution_count": 231,
   "metadata": {},
   "outputs": [
    {
     "name": "stdout",
     "output_type": "stream",
     "text": [
      "Cost after 50 gradient updates: 7.9091\n",
      "Cost after 100 gradient updates: 7.4395\n",
      "Cost after 150 gradient updates: 7.5127\n",
      "Cost after 200 gradient updates: 7.3845\n",
      "Cost after 250 gradient updates: 6.8268\n",
      "Cost after 300 gradient updates: 6.8472\n",
      "Cost after 350 gradient updates: 6.2466\n",
      "Cost after 400 gradient updates: 6.1383\n",
      "Cost after 450 gradient updates: 7.0776\n",
      "Cost after 500 gradient updates: 6.5591\n"
     ]
    }
   ],
   "source": [
    "W1, W2, b1, b2, cost_history = mini_batch_gradient_descent(data,\n",
    "                                                           word2ind, \n",
    "                                                           N=50, \n",
    "                                                           V=len(word2ind), \n",
    "                                                           C=3, \n",
    "                                                           iters=500, \n",
    "                                                           alpha=9e-1, \n",
    "                                                           batch_size=128)"
   ]
  },
  {
   "cell_type": "code",
   "execution_count": 232,
   "metadata": {},
   "outputs": [
    {
     "data": {
      "image/png": "[encoded data removed]",
      "text/plain": [
       "<Figure size 720x432 with 1 Axes>"
      ]
     },
     "metadata": {
      "needs_background": "light"
     },
     "output_type": "display_data"
    }
   ],
   "source": [
    "plt.figure(figsize=(10,6))\n",
    "epochs = [i for i in range(50,501, 50)]\n",
    "plt.plot(epochs, cost_history)\n",
    "plt.xlabel('Gradient Updates')\n",
    "plt.ylabel('Cost')\n",
    "plt.show()"
   ]
  },
  {
   "cell_type": "code",
   "execution_count": 227,
   "metadata": {},
   "outputs": [
    {
     "name": "stdout",
     "output_type": "stream",
     "text": [
      "(10, 50) [2744, 3949, 2960, 3022, 5672, 1452, 5671, 4189, 2315, 4276]\n"
     ]
    }
   ],
   "source": [
    "# visualizing the word vectors here\n",
    "words = ['king', 'queen','lord','man', 'woman','dog','wolf',\n",
    "         'rich','happy','sad']\n",
    "\n",
    "# embs = (W1.T + W2)/2.0\n",
    "embs = W1.T\n",
    " \n",
    "# given a list of words and the embeddings, it returns a matrix with all the embeddings\n",
    "idx = [word2ind[word] for word in words]\n",
    "X = embs[idx, :]\n",
    "print(X.shape, idx)  # X.shape:  Number of words of dimension N each "
   ]
  },
  {
   "cell_type": "code",
   "execution_count": 228,
   "metadata": {},
   "outputs": [
    {
     "data": {
      "image/png": "[encoded data removed]",
      "text/plain": [
       "<Figure size 720x432 with 1 Axes>"
      ]
     },
     "metadata": {
      "needs_background": "light"
     },
     "output_type": "display_data"
    }
   ],
   "source": [
    "plt.figure(figsize=(10,6))\n",
    "result= compute_pca(X, 2)\n",
    "plt.scatter(result[:, 0], result[:, 1])\n",
    "for i, word in enumerate(words):\n",
    "    plt.annotate(word, xy=(result[i, 0], result[i, 1]), fontsize=20)\n",
    "plt.show()"
   ]
  }
 ],
 "metadata": {
  "kernelspec": {
   "display_name": "Python 3.9.7 ('base')",
   "language": "python",
   "name": "python3"
  },
  "language_info": {
   "codemirror_mode": {
    "name": "ipython",
    "version": 3
   },
   "file_extension": ".py",
   "mimetype": "text/x-python",
   "name": "python",
   "nbconvert_exporter": "python",
   "pygments_lexer": "ipython3",
   "version": "3.9.7"
  },
  "orig_nbformat": 4,
  "vscode": {
   "interpreter": {
    "hash": "ed98f0601b831bcc7b83204b240d5de8690f3d4c7ae43c4dad5e24aa4ea3791d"
   }
  }
 },
 "nbformat": 4,
 "nbformat_minor": 2
}
